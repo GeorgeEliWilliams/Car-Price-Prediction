{
 "cells": [
  {
   "cell_type": "markdown",
   "id": "bde9b9df",
   "metadata": {},
   "source": [
    "## Context\n",
    "\n",
    "* There is a huge demand for used cars in the Indian Market today. As sales of new cars have slowed down in the recent past, the pre-owned car market has continued to grow over the past years and is larger than the new car market now. Cars4U is a budding tech start-up that aims to find footholes in this market.\n",
    "\n",
    "* In 2018-19, while new car sales were recorded at 3.6 million units, around 4 million second-hand cars were bought and sold. There is a slowdown in new car sales and that could mean that the demand is shifting towards the pre-owned market. In fact, some car sellers replace their old cars with pre-owned cars instead of buying new ones. Unlike new cars, where price and supply are fairly deterministic and managed by OEMs (Original Equipment Manufacturer / except for dealership level discounts which come into play only in the last stage of the customer journey), used cars are very different beasts with huge uncertainty in both pricing and supply. Keeping this in mind, the pricing scheme of these used cars becomes important in order to grow in the market.\n",
    "\n",
    "* I am going to come up with a pricing model that can effectively predict the price of used cars and can help the business in devising profitable strategies using differential pricing. For example, if the business knows the market price, it will never sell anything below it."
   ]
  },
  {
   "cell_type": "markdown",
   "id": "aaed0e65",
   "metadata": {},
   "source": [
    "## Objective\n",
    "\n",
    "* To explore and visualize the dataset, build a linear regression model to predict the prices of used cars, and generate a set of insights and recommendations that will help the business."
   ]
  },
  {
   "cell_type": "markdown",
   "id": "718db382",
   "metadata": {},
   "source": [
    "## Data Description\n",
    "\n",
    "* The data contains the different attributes of used cars sold in different locations. The detailed data dictionary is given below."
   ]
  },
  {
   "cell_type": "markdown",
   "id": "0cdad3d6",
   "metadata": {},
   "source": [
    "## Data Dictionary\n",
    "\n",
    "* S.No.: Serial number\n",
    "* Name: Name of the car which includes brand name and model name\n",
    "* Location: Location in which the car is being sold or is available for purchase (cities)\n",
    "* Year: Manufacturing year of the car\n",
    "* Kilometers_driven: The total kilometers (a unit used to measure length or distance) driven in the car by the previous owner(s)\n",
    "* Fuel_Type: The type of fuel used by the car (Petrol, Diesel, Electric, CNG, LPG)\n",
    "* Transmission: The type of transmission used by the car (Automatic/Manual)\n",
    "* Owner: Type of ownership\n",
    "* Mileage: The standard mileage offered by the car company in kmpl or km/kg\n",
    "* Engine: The displacement volume of the engine in CC\n",
    "* Power: The maximum power of the engine in bhp\n",
    "* Seats: The number of seats in the car\n",
    "* New_Price: The price of a new car of the same model in INR Lakhs (1 Lakh INR = 100,000 INR)\n",
    "* Price: The price of the used car in INR Lakhs"
   ]
  },
  {
   "cell_type": "markdown",
   "id": "fa93e9e9",
   "metadata": {},
   "source": [
    "## Importing Libraries"
   ]
  },
  {
   "cell_type": "code",
   "execution_count": 3,
   "id": "4eadf4f3",
   "metadata": {},
   "outputs": [],
   "source": [
    "# libraries for manioulating and reading data\n",
    "import pandas as pd\n",
    "import numpy as np\n",
    "\n",
    "# libraries for Visuals \n",
    "import matplotlib.pyplot as plt\n",
    "import seaborn as sns\n",
    "\n",
    "# library for giving us full read option for columns\n",
    "pd.set_option(\"display.max_columns\", None)\n",
    "\n",
    "# libraries for building and testing our model\n",
    "from sklearn.model_selection import train_test_split\n",
    "from sklearn.linear_model import LinearRegression\n",
    "from sklearn.metrics import mean_absolute_error, mean_squared_error, r2_score"
   ]
  },
  {
   "cell_type": "code",
   "execution_count": null,
   "id": "2e139cda",
   "metadata": {},
   "outputs": [],
   "source": []
  }
 ],
 "metadata": {
  "kernelspec": {
   "display_name": "Python 3 (ipykernel)",
   "language": "python",
   "name": "python3"
  },
  "language_info": {
   "codemirror_mode": {
    "name": "ipython",
    "version": 3
   },
   "file_extension": ".py",
   "mimetype": "text/x-python",
   "name": "python",
   "nbconvert_exporter": "python",
   "pygments_lexer": "ipython3",
   "version": "3.11.3"
  }
 },
 "nbformat": 4,
 "nbformat_minor": 5
}
